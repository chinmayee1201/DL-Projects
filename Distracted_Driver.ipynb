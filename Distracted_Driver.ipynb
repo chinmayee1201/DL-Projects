{
  "nbformat": 4,
  "nbformat_minor": 0,
  "metadata": {
    "colab": {
      "provenance": [],
      "mount_file_id": "1Nd90aWMYjfHTZEbiMml-RMQiRVuW1DLH",
      "authorship_tag": "ABX9TyNrkP6i3dbZ7SHYujtexBxA",
      "include_colab_link": true
    },
    "kernelspec": {
      "name": "python3",
      "display_name": "Python 3"
    },
    "language_info": {
      "name": "python"
    }
  },
  "cells": [
    {
      "cell_type": "markdown",
      "metadata": {
        "id": "view-in-github",
        "colab_type": "text"
      },
      "source": [
        "<a href=\"https://colab.research.google.com/github/chinmayee1201/DL-Projects/blob/main/Distracted_Driver.ipynb\" target=\"_parent\"><img src=\"https://colab.research.google.com/assets/colab-badge.svg\" alt=\"Open In Colab\"/></a>"
      ]
    },
    {
      "cell_type": "code",
      "execution_count": 54,
      "metadata": {
        "id": "tx3G-kUtCCEA"
      },
      "outputs": [],
      "source": [
        "!pip install -q pandas scikit-learn"
      ]
    },
    {
      "cell_type": "code",
      "source": [
        "from google.colab import drive\n",
        "drive.mount('/content/drive')\n",
        "\n",
        "import os\n",
        "import pandas as pd\n",
        "import shutil\n",
        "from sklearn.model_selection import train_test_split\n",
        "from tqdm import tqdm"
      ],
      "metadata": {
        "colab": {
          "base_uri": "https://localhost:8080/"
        },
        "id": "zzMXwMlAUKWw",
        "outputId": "e9398e74-a432-443d-a369-17b9e97ffab7"
      },
      "execution_count": 55,
      "outputs": [
        {
          "output_type": "stream",
          "name": "stdout",
          "text": [
            "Drive already mounted at /content/drive; to attempt to forcibly remount, call drive.mount(\"/content/drive\", force_remount=True).\n"
          ]
        }
      ]
    },
    {
      "cell_type": "code",
      "source": [
        "csv_path = \"/content/drive/MyDrive/Colab Notebooks/driver_imgs_list.csv\"\n",
        "\n",
        "df = pd.read_csv(csv_path)\n",
        "\n",
        "# Fix column names if needed\n",
        "df.columns = df.columns.str.strip()"
      ],
      "metadata": {
        "id": "dIDire95IDbj"
      },
      "execution_count": 57,
      "outputs": []
    },
    {
      "cell_type": "code",
      "source": [
        "df.rename(columns={\"class\": \"classname\"}, inplace=True)"
      ],
      "metadata": {
        "id": "fQYvTfmLUS1_"
      },
      "execution_count": 58,
      "outputs": []
    },
    {
      "cell_type": "code",
      "source": [
        "train_root = \"/content/drive/MyDrive/Colab Notebooks/train\"\n",
        "\n",
        "# This is the key line — must use apply row-wise\n",
        "df['filepath'] = df.apply(lambda row: os.path.join(train_root, row['classname'], row['img']), axis=1)"
      ],
      "metadata": {
        "id": "4ikLZ49BVw1U"
      },
      "execution_count": 59,
      "outputs": []
    },
    {
      "cell_type": "code",
      "source": [
        "train_df, val_df = train_test_split(\n",
        "    df, test_size=0.2, stratify=df['classname'], random_state=42\n",
        ")"
      ],
      "metadata": {
        "id": "0CaFFMk5Vys6"
      },
      "execution_count": 60,
      "outputs": []
    },
    {
      "cell_type": "code",
      "source": [
        "train_df.to_pickle(\"/content/drive/MyDrive/train_df.pkl\")\n",
        "val_df.to_pickle(\"/content/drive/MyDrive/val_df.pkl\")"
      ],
      "metadata": {
        "id": "RglC5U7X3a9x"
      },
      "execution_count": 64,
      "outputs": []
    },
    {
      "cell_type": "code",
      "source": [
        "output_root = \"/content/TrainValSplit\"\n",
        "\n",
        "def copy_images(sub_df, split_type):\n",
        "    for _, row in tqdm(sub_df.iterrows(), total=len(sub_df), desc=f'Copying {split_type}'):\n",
        "        src_path = row['filepath']\n",
        "        dst_folder = os.path.join(output_root, split_type, row['classname'])\n",
        "        os.makedirs(dst_folder, exist_ok=True)\n",
        "\n",
        "        dst_path = os.path.join(dst_folder, row['img'])\n",
        "\n",
        "        # Check if source file exists\n",
        "        if os.path.exists(src_path):\n",
        "            shutil.copy(src_path, dst_path)\n",
        "        else:\n",
        "            print(f\"⚠️ File not found: {src_path}\")\n",
        "\n",
        "# Now run the copy\n",
        "copy_images(train_df, \"train\")\n",
        "copy_images(val_df, \"val\")\n"
      ],
      "metadata": {
        "colab": {
          "base_uri": "https://localhost:8080/"
        },
        "id": "XtR-G8joVCFk",
        "outputId": "cf289629-32c4-4ad9-fab4-c6ca6d694cdd"
      },
      "execution_count": 65,
      "outputs": [
        {
          "output_type": "stream",
          "name": "stderr",
          "text": [
            "Copying train: 100%|██████████| 17939/17939 [01:19<00:00, 225.75it/s]\n",
            "Copying val: 100%|██████████| 4485/4485 [00:17<00:00, 252.59it/s]\n"
          ]
        }
      ]
    },
    {
      "cell_type": "code",
      "source": [
        "import tensorflow as tf\n",
        "from tensorflow.keras.preprocessing.image import ImageDataGenerator\n",
        "from tensorflow.keras.applications import MobileNetV2\n",
        "from tensorflow.keras.models import Model\n",
        "from tensorflow.keras.layers import Dense, GlobalAveragePooling2D\n",
        "from tensorflow.keras.optimizers import Adam"
      ],
      "metadata": {
        "id": "mSkELwgCyTm9"
      },
      "execution_count": 66,
      "outputs": []
    },
    {
      "cell_type": "code",
      "source": [
        "train_dir = \"/content/TrainValSplit/train\"\n",
        "val_dir = \"/content/TrainValSplit/val\"\n",
        "\n",
        "# Image generators\n",
        "train_datagen = ImageDataGenerator(\n",
        "    rescale=1./255,\n",
        "    rotation_range=20,\n",
        "    zoom_range=0.2,\n",
        "    horizontal_flip=True\n",
        ")\n",
        "\n",
        "val_datagen = ImageDataGenerator(rescale=1./255)\n",
        "\n",
        "# Create generators\n",
        "train_generator = train_datagen.flow_from_directory(\n",
        "    train_dir,\n",
        "    target_size=(224, 224),\n",
        "    batch_size=32,\n",
        "    class_mode='categorical'\n",
        ")\n",
        "\n",
        "val_generator = val_datagen.flow_from_directory(\n",
        "    val_dir,\n",
        "    target_size=(224, 224),\n",
        "    batch_size=32,\n",
        "    class_mode='categorical'\n",
        ")\n"
      ],
      "metadata": {
        "colab": {
          "base_uri": "https://localhost:8080/"
        },
        "id": "Cws62c5ayToJ",
        "outputId": "c74bd8da-e796-441f-a5f4-0041f9ed38a5"
      },
      "execution_count": 67,
      "outputs": [
        {
          "output_type": "stream",
          "name": "stdout",
          "text": [
            "Found 17939 images belonging to 10 classes.\n",
            "Found 4485 images belonging to 10 classes.\n"
          ]
        }
      ]
    },
    {
      "cell_type": "code",
      "source": [
        "base_model = MobileNetV2(weights='imagenet', include_top=False, input_shape=(224, 224, 3))\n",
        "base_model.trainable = False  # Freeze base model\n",
        "\n",
        "x = base_model.output\n",
        "x = GlobalAveragePooling2D()(x)\n",
        "x = Dense(128, activation='relu')(x)\n",
        "predictions = Dense(10, activation='softmax')(x)\n",
        "\n",
        "model = Model(inputs=base_model.input, outputs=predictions)\n",
        "\n",
        "model.compile(optimizer=Adam(learning_rate=0.0001),\n",
        "              loss='categorical_crossentropy',\n",
        "              metrics=['accuracy'])"
      ],
      "metadata": {
        "colab": {
          "base_uri": "https://localhost:8080/"
        },
        "id": "MRjURLmHyTrq",
        "outputId": "33a0470d-0d3b-400e-ed31-0d2a7833cb49"
      },
      "execution_count": 68,
      "outputs": [
        {
          "output_type": "stream",
          "name": "stdout",
          "text": [
            "Downloading data from https://storage.googleapis.com/tensorflow/keras-applications/mobilenet_v2/mobilenet_v2_weights_tf_dim_ordering_tf_kernels_1.0_224_no_top.h5\n",
            "\u001b[1m9406464/9406464\u001b[0m \u001b[32m━━━━━━━━━━━━━━━━━━━━\u001b[0m\u001b[37m\u001b[0m \u001b[1m0s\u001b[0m 0us/step\n"
          ]
        }
      ]
    },
    {
      "cell_type": "code",
      "source": [
        "history = model.fit(\n",
        "    train_generator,\n",
        "    validation_data=val_generator,\n",
        "    epochs=5  # You can increase this\n",
        ")"
      ],
      "metadata": {
        "colab": {
          "base_uri": "https://localhost:8080/"
        },
        "id": "hLSjIkw94ZRV",
        "outputId": "73297990-d6b8-4728-9fb6-1aa99277f84b"
      },
      "execution_count": 69,
      "outputs": [
        {
          "output_type": "stream",
          "name": "stderr",
          "text": [
            "/usr/local/lib/python3.11/dist-packages/keras/src/trainers/data_adapters/py_dataset_adapter.py:121: UserWarning: Your `PyDataset` class should call `super().__init__(**kwargs)` in its constructor. `**kwargs` can include `workers`, `use_multiprocessing`, `max_queue_size`. Do not pass these arguments to `fit()`, as they will be ignored.\n",
            "  self._warn_if_super_not_called()\n"
          ]
        },
        {
          "output_type": "stream",
          "name": "stdout",
          "text": [
            "Epoch 1/5\n",
            "\u001b[1m561/561\u001b[0m \u001b[32m━━━━━━━━━━━━━━━━━━━━\u001b[0m\u001b[37m\u001b[0m \u001b[1m637s\u001b[0m 1s/step - accuracy: 0.2944 - loss: 2.0259 - val_accuracy: 0.6080 - val_loss: 1.2602\n",
            "Epoch 2/5\n",
            "\u001b[1m561/561\u001b[0m \u001b[32m━━━━━━━━━━━━━━━━━━━━\u001b[0m\u001b[37m\u001b[0m \u001b[1m691s\u001b[0m 1s/step - accuracy: 0.6567 - loss: 1.1437 - val_accuracy: 0.7356 - val_loss: 0.9013\n",
            "Epoch 3/5\n",
            "\u001b[1m561/561\u001b[0m \u001b[32m━━━━━━━━━━━━━━━━━━━━\u001b[0m\u001b[37m\u001b[0m \u001b[1m655s\u001b[0m 1s/step - accuracy: 0.7520 - loss: 0.8421 - val_accuracy: 0.7842 - val_loss: 0.7265\n",
            "Epoch 4/5\n",
            "\u001b[1m561/561\u001b[0m \u001b[32m━━━━━━━━━━━━━━━━━━━━\u001b[0m\u001b[37m\u001b[0m \u001b[1m674s\u001b[0m 1s/step - accuracy: 0.7948 - loss: 0.7005 - val_accuracy: 0.8011 - val_loss: 0.6350\n",
            "Epoch 5/5\n",
            "\u001b[1m561/561\u001b[0m \u001b[32m━━━━━━━━━━━━━━━━━━━━\u001b[0m\u001b[37m\u001b[0m \u001b[1m674s\u001b[0m 1s/step - accuracy: 0.8204 - loss: 0.6092 - val_accuracy: 0.8473 - val_loss: 0.5335\n"
          ]
        }
      ]
    },
    {
      "cell_type": "code",
      "source": [
        "import matplotlib.pyplot as plt\n",
        "\n",
        "# Accuracy\n",
        "plt.plot(history.history['accuracy'], label='Train Acc')\n",
        "plt.plot(history.history['val_accuracy'], label='Val Acc')\n",
        "plt.title('Model Accuracy')\n",
        "plt.legend()\n",
        "plt.show()\n",
        "\n",
        "# Loss\n",
        "plt.plot(history.history['loss'], label='Train Loss')\n",
        "plt.plot(history.history['val_loss'], label='Val Loss')\n",
        "plt.title('Model Loss')\n",
        "plt.legend()\n",
        "plt.show()\n"
      ],
      "metadata": {
        "colab": {
          "base_uri": "https://localhost:8080/",
          "height": 887
        },
        "id": "vzBZqZZSCbwJ",
        "outputId": "947ce305-dd12-4e93-91d7-16950dbb567f"
      },
      "execution_count": 70,
      "outputs": [
        {
          "output_type": "display_data",
          "data": {
            "text/plain": [
              "<Figure size 640x480 with 1 Axes>"
            ],
            "image/png": "[encoded data removed]"
          },
          "metadata": {}
        },
        {
          "output_type": "display_data",
          "data": {
            "text/plain": [
              "<Figure size 640x480 with 1 Axes>"
            ],
            "image/png": "[encoded data removed]"
          },
          "metadata": {}
        }
      ]
    },
    {
      "cell_type": "code",
      "source": [
        "print(\"Final Training Accuracy:\", history.history['accuracy'][-1])\n",
        "print(\"Final Validation Accuracy:\", history.history['val_accuracy'][-1])\n",
        "print(\"Final Training Loss:\", history.history['loss'][-1])\n",
        "print(\"Final Validation Loss:\", history.history['val_loss'][-1])"
      ],
      "metadata": {
        "colab": {
          "base_uri": "https://localhost:8080/"
        },
        "id": "9gjWvGyKJSXn",
        "outputId": "c2169bf8-b206-43c4-dac8-50eb1b617247"
      },
      "execution_count": 71,
      "outputs": [
        {
          "output_type": "stream",
          "name": "stdout",
          "text": [
            "Final Training Accuracy: 0.8275266289710999\n",
            "Final Validation Accuracy: 0.8472687005996704\n",
            "Final Training Loss: 0.5948851108551025\n",
            "Final Validation Loss: 0.5334774851799011\n"
          ]
        }
      ]
    }
  ]
}